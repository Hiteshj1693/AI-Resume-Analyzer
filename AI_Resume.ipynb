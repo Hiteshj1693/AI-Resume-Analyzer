{
  "cells": [
    {
      "cell_type": "code",
      "source": [
        "!pip install PyPDF2 langchain"
      ],
      "metadata": {
        "colab": {
          "base_uri": "https://localhost:8080/"
        },
        "id": "jOSxroOZm9q-",
        "outputId": "6ef66116-78ca-4736-938a-6b09caa6af18",
        "collapsed": true
      },
      "execution_count": 4,
      "outputs": [
        {
          "output_type": "stream",
          "name": "stdout",
          "text": [
            "Requirement already satisfied: PyPDF2 in /usr/local/lib/python3.10/dist-packages (3.0.1)\n",
            "Requirement already satisfied: langchain in /usr/local/lib/python3.10/dist-packages (0.1.20)\n",
            "Requirement already satisfied: PyYAML>=5.3 in /usr/local/lib/python3.10/dist-packages (from langchain) (6.0.1)\n",
            "Requirement already satisfied: SQLAlchemy<3,>=1.4 in /usr/local/lib/python3.10/dist-packages (from langchain) (2.0.30)\n",
            "Requirement already satisfied: aiohttp<4.0.0,>=3.8.3 in /usr/local/lib/python3.10/dist-packages (from langchain) (3.9.5)\n",
            "Requirement already satisfied: async-timeout<5.0.0,>=4.0.0 in /usr/local/lib/python3.10/dist-packages (from langchain) (4.0.3)\n",
            "Requirement already satisfied: dataclasses-json<0.7,>=0.5.7 in /usr/local/lib/python3.10/dist-packages (from langchain) (0.6.6)\n",
            "Requirement already satisfied: langchain-community<0.1,>=0.0.38 in /usr/local/lib/python3.10/dist-packages (from langchain) (0.0.38)\n",
            "Requirement already satisfied: langchain-core<0.2.0,>=0.1.52 in /usr/local/lib/python3.10/dist-packages (from langchain) (0.1.52)\n",
            "Requirement already satisfied: langchain-text-splitters<0.1,>=0.0.1 in /usr/local/lib/python3.10/dist-packages (from langchain) (0.0.1)\n",
            "Requirement already satisfied: langsmith<0.2.0,>=0.1.17 in /usr/local/lib/python3.10/dist-packages (from langchain) (0.1.58)\n",
            "Requirement already satisfied: numpy<2,>=1 in /usr/local/lib/python3.10/dist-packages (from langchain) (1.25.2)\n",
            "Requirement already satisfied: pydantic<3,>=1 in /usr/local/lib/python3.10/dist-packages (from langchain) (2.7.1)\n",
            "Requirement already satisfied: requests<3,>=2 in /usr/local/lib/python3.10/dist-packages (from langchain) (2.31.0)\n",
            "Requirement already satisfied: tenacity<9.0.0,>=8.1.0 in /usr/local/lib/python3.10/dist-packages (from langchain) (8.3.0)\n",
            "Requirement already satisfied: aiosignal>=1.1.2 in /usr/local/lib/python3.10/dist-packages (from aiohttp<4.0.0,>=3.8.3->langchain) (1.3.1)\n",
            "Requirement already satisfied: attrs>=17.3.0 in /usr/local/lib/python3.10/dist-packages (from aiohttp<4.0.0,>=3.8.3->langchain) (23.2.0)\n",
            "Requirement already satisfied: frozenlist>=1.1.1 in /usr/local/lib/python3.10/dist-packages (from aiohttp<4.0.0,>=3.8.3->langchain) (1.4.1)\n",
            "Requirement already satisfied: multidict<7.0,>=4.5 in /usr/local/lib/python3.10/dist-packages (from aiohttp<4.0.0,>=3.8.3->langchain) (6.0.5)\n",
            "Requirement already satisfied: yarl<2.0,>=1.0 in /usr/local/lib/python3.10/dist-packages (from aiohttp<4.0.0,>=3.8.3->langchain) (1.9.4)\n",
            "Requirement already satisfied: marshmallow<4.0.0,>=3.18.0 in /usr/local/lib/python3.10/dist-packages (from dataclasses-json<0.7,>=0.5.7->langchain) (3.21.2)\n",
            "Requirement already satisfied: typing-inspect<1,>=0.4.0 in /usr/local/lib/python3.10/dist-packages (from dataclasses-json<0.7,>=0.5.7->langchain) (0.9.0)\n",
            "Requirement already satisfied: jsonpatch<2.0,>=1.33 in /usr/local/lib/python3.10/dist-packages (from langchain-core<0.2.0,>=0.1.52->langchain) (1.33)\n",
            "Requirement already satisfied: packaging<24.0,>=23.2 in /usr/local/lib/python3.10/dist-packages (from langchain-core<0.2.0,>=0.1.52->langchain) (23.2)\n",
            "Requirement already satisfied: orjson<4.0.0,>=3.9.14 in /usr/local/lib/python3.10/dist-packages (from langsmith<0.2.0,>=0.1.17->langchain) (3.10.3)\n",
            "Requirement already satisfied: annotated-types>=0.4.0 in /usr/local/lib/python3.10/dist-packages (from pydantic<3,>=1->langchain) (0.6.0)\n",
            "Requirement already satisfied: pydantic-core==2.18.2 in /usr/local/lib/python3.10/dist-packages (from pydantic<3,>=1->langchain) (2.18.2)\n",
            "Requirement already satisfied: typing-extensions>=4.6.1 in /usr/local/lib/python3.10/dist-packages (from pydantic<3,>=1->langchain) (4.11.0)\n",
            "Requirement already satisfied: charset-normalizer<4,>=2 in /usr/local/lib/python3.10/dist-packages (from requests<3,>=2->langchain) (3.3.2)\n",
            "Requirement already satisfied: idna<4,>=2.5 in /usr/local/lib/python3.10/dist-packages (from requests<3,>=2->langchain) (3.7)\n",
            "Requirement already satisfied: urllib3<3,>=1.21.1 in /usr/local/lib/python3.10/dist-packages (from requests<3,>=2->langchain) (2.0.7)\n",
            "Requirement already satisfied: certifi>=2017.4.17 in /usr/local/lib/python3.10/dist-packages (from requests<3,>=2->langchain) (2024.2.2)\n",
            "Requirement already satisfied: greenlet!=0.4.17 in /usr/local/lib/python3.10/dist-packages (from SQLAlchemy<3,>=1.4->langchain) (3.0.3)\n",
            "Requirement already satisfied: jsonpointer>=1.9 in /usr/local/lib/python3.10/dist-packages (from jsonpatch<2.0,>=1.33->langchain-core<0.2.0,>=0.1.52->langchain) (2.4)\n",
            "Requirement already satisfied: mypy-extensions>=0.3.0 in /usr/local/lib/python3.10/dist-packages (from typing-inspect<1,>=0.4.0->dataclasses-json<0.7,>=0.5.7->langchain) (1.0.0)\n"
          ]
        }
      ]
    },
    {
      "cell_type": "code",
      "execution_count": null,
      "metadata": {
        "id": "4aN7WcSIpAkx"
      },
      "outputs": [],
      "source": [
        "from PyPDF2 import PdfReader\n",
        "from langchain.text_splitter import RecursiveCharacterTextSplitter"
      ]
    },
    {
      "cell_type": "code",
      "execution_count": 5,
      "metadata": {
        "colab": {
          "base_uri": "https://localhost:8080/"
        },
        "id": "YXpE7mQZpAkz",
        "outputId": "d741f9fc-4034-41bd-f5ae-41d646b99194"
      },
      "outputs": [
        {
          "output_type": "stream",
          "name": "stdout",
          "text": [
            "<PyPDF2._reader.PdfReader object at 0x7c8014f85d20>\n"
          ]
        }
      ],
      "source": [
        "pdf = \"/content/Venisha_Resume.pdf\"\n",
        "pdf_reader = PdfReader(pdf)\n",
        "print(pdf_reader)"
      ]
    },
    {
      "cell_type": "code",
      "execution_count": 6,
      "metadata": {
        "colab": {
          "base_uri": "https://localhost:8080/"
        },
        "id": "gJnbA3TppAk0",
        "outputId": "3cb26ded-9d22-4f96-c33b-b46cbaf2a7f8"
      },
      "outputs": [
        {
          "output_type": "stream",
          "name": "stdout",
          "text": [
            "Venisha Parmar\n",
            "+91 9375475075 •parmarvenisha725@gmail.com •Linkedin •Github\n",
            "ABOUT\n",
            "I am a Pre-Final Y ear B.Tech Student currently pursuing Information and Communication Technology at Marwadi University, Ra-\n",
            "jkot, Gujarat, India. My passion for technology drives my aspirations to become a Software Developer. As a quick learner with a\n",
            "growth mindset, I am dedicated to seeking opportunities to enhance my skills and expand my knowledge. I am eager to apply\n",
            "my expertise in a challenging and dynamic work environment, contributing to meaningful projects and continuing my professional\n",
            "growth.\n",
            "EDUCATION\n",
            "Marwadi University Rajkot,Gujarat,India September 2021-present\n",
            "Degree : Bachelor of Technology in Information and Communication Technology\n",
            "Grade : CGPA 7.79 / 10\n",
            "The School of Science Rajkot,Gujarat,India May 2020 - May 2021\n",
            "Higher Secondary Certificate: 12th - HSC Science A-group, GSEB\n",
            "Grade : 75 Percentage\n",
            "Nirmala Convent School Rajkot,Gujarat,India March 2018 - March 2019\n",
            "Secondary School Certificate: 10th - SSC - GSEB\n",
            "Grade : 75 Percentage\n",
            "SKILLS\n",
            "Programming Languages: Java, JavaScript, Python, C++, C Language\n",
            "Backend Web Technologies: Node JS, Express JS, MVC Architecture\n",
            "Frontend Web Technologies: React JS, HTML, CSS, Bootstrap, AJAX, Tailwind , Material UI\n",
            "Database Technologies: SQL, MySQL, MongoDB\n",
            "CourseWork Subjects: Operating System, Database Management System, Computer Networks\n",
            "Other: Data Structure and Algorithms, GitHub, Postman, Machine Learning\n",
            "ACHIEVEMENTS\n",
            "HackerRank : 5-Star Gold Badge in Problem Solving\n",
            "LeetCode : DCC-Monthly Badges(+100 Problems Solved in DSA)\n",
            "CodeChef : +200 Problems Solved\n",
            "WORK EXPERIENCE\n",
            "Full Stack Intern |RKIT Software Pvt. Ltd., Rajkot,Gujarat,India May 2023 - July 2023\n",
            "•Wrote production-ready code with fluency in modern front-end and back-end frameworks.\n",
            "•Learned new emerging technologies and took initiative to offer technical direction and creative solutions.\n",
            "•Assisted with creating UI web components and built 3 responsive web applications using front-end framework ReactJS\n",
            "and back-end framework NodeJS .\n",
            "•Helped code and test full-stack Web-based application developed on MERN stack approaches.\n",
            "•Designed and executed security measures such as hashing andencryption .\n",
            "CERTIFICATIONS\n",
            "Postman API Fundamentals Student Expert : API development, testing, and management using the Postman platform.\n",
            "Oracle Database Foundation Learner : Fundamentals of database concepts, SQL, database administration and database ar-\n",
            "chitecture.\n",
            "Github Global Campus Student : Opportunities to learn and collaborate on projects using GitHub, a web-based platform for\n",
            "version control and collaboration.\n",
            "Coursera Course : Python Programming, Data Visualization, Machine Learning, Deep Learning and Neural Networks.PROJECTS\n",
            "I-NoteBook |MERN Stack\n",
            "•Utilized iNoteBook as a foundational project to deepen proficiency in key technologies, including ReactJS, NodeJS, Ex-\n",
            "pressJS, and MongoDB.\n",
            "•Designed anddeveloped the iNoteBook web application, a robust note-taking platform, using the MERN (MongoDB,\n",
            "ExpressJS, ReactJS, NodeJS) stack.\n",
            "•Implemented essential features such as user account creation, authentication, and CRUD (Create, Read, Update, Delete)\n",
            "operations for notes.\n",
            "The NewsApp |React App\n",
            "•Created \"The News App\" utilizing ReactJS, demonstrating expertise in creating both Class-Based components and\n",
            "Function-Based components.\n",
            "•Utilized the News API to fetch and display news articles across diverse categories, including business, entertainment,\n",
            "health, sports, general, science, and technology.\n",
            "•Created a multi-page structure for easy navigation between categories and incorporated infinite scroll functionality to\n",
            "dynamically load additional articles as users scroll.\n",
            "Learning Module of Graph Theory |HTML-CSS-JS\n",
            "•Developed a comprehensive learning module centered on graph theory, encompassing diverse graph structures and\n",
            "concepts.\n",
            "•Implemented an interactive interface enabling users to explore specific graph types, providing detailed definitions and\n",
            "showcasing essential graph properties through practical examples.\n",
            "•Designed and executed algorithms to facilitate dynamic graph creation, analysis, and automatic computation of key\n",
            "attributes, such as edge count, vertex count, and graph degree.\n",
            "•Emphasized the real-world applications of graph theory, illustrating its practical significance across various domains and\n",
            "underscoring its relevance in contemporary society.\n"
          ]
        }
      ],
      "source": [
        "# extrat text from each page separately\n",
        "text = \"\"\n",
        "for page in pdf_reader.pages:\n",
        "    text += page.extract_text()\n",
        "\n",
        "print(text)"
      ]
    },
    {
      "cell_type": "code",
      "execution_count": 8,
      "metadata": {
        "colab": {
          "base_uri": "https://localhost:8080/"
        },
        "id": "sacjHBybpAk0",
        "outputId": "afa75dac-fbef-4a57-d5b2-9c45ffb66c8e"
      },
      "outputs": [
        {
          "output_type": "execute_result",
          "data": {
            "text/plain": [
              "['Venisha Parmar\\n+91 9375475075 •parmarvenisha725@gmail.com •Linkedin •Github\\nABOUT\\nI am a Pre-Final Y ear B.Tech Student currently pursuing Information and Communication Technology at Marwadi University, Ra-\\njkot, Gujarat, India. My passion for technology drives my aspirations to become a Software Developer. As a quick learner with a\\ngrowth mindset, I am dedicated to seeking opportunities to enhance my skills and expand my knowledge. I am eager to apply\\nmy expertise in a challenging and dynamic work environment, contributing to meaningful projects and continuing my professional\\ngrowth.\\nEDUCATION\\nMarwadi University Rajkot,Gujarat,India September 2021-present',\n",
              " 'growth.\\nEDUCATION\\nMarwadi University Rajkot,Gujarat,India September 2021-present\\nDegree : Bachelor of Technology in Information and Communication Technology\\nGrade : CGPA 7.79 / 10\\nThe School of Science Rajkot,Gujarat,India May 2020 - May 2021\\nHigher Secondary Certificate: 12th - HSC Science A-group, GSEB\\nGrade : 75 Percentage\\nNirmala Convent School Rajkot,Gujarat,India March 2018 - March 2019\\nSecondary School Certificate: 10th - SSC - GSEB\\nGrade : 75 Percentage\\nSKILLS\\nProgramming Languages: Java, JavaScript, Python, C++, C Language\\nBackend Web Technologies: Node JS, Express JS, MVC Architecture\\nFrontend Web Technologies: React JS, HTML, CSS, Bootstrap, AJAX, Tailwind , Material UI',\n",
              " 'Backend Web Technologies: Node JS, Express JS, MVC Architecture\\nFrontend Web Technologies: React JS, HTML, CSS, Bootstrap, AJAX, Tailwind , Material UI\\nDatabase Technologies: SQL, MySQL, MongoDB\\nCourseWork Subjects: Operating System, Database Management System, Computer Networks\\nOther: Data Structure and Algorithms, GitHub, Postman, Machine Learning\\nACHIEVEMENTS\\nHackerRank : 5-Star Gold Badge in Problem Solving\\nLeetCode : DCC-Monthly Badges(+100 Problems Solved in DSA)\\nCodeChef : +200 Problems Solved\\nWORK EXPERIENCE\\nFull Stack Intern |RKIT Software Pvt. Ltd., Rajkot,Gujarat,India May 2023 - July 2023\\n•Wrote production-ready code with fluency in modern front-end and back-end frameworks.',\n",
              " 'WORK EXPERIENCE\\nFull Stack Intern |RKIT Software Pvt. Ltd., Rajkot,Gujarat,India May 2023 - July 2023\\n•Wrote production-ready code with fluency in modern front-end and back-end frameworks.\\n•Learned new emerging technologies and took initiative to offer technical direction and creative solutions.\\n•Assisted with creating UI web components and built 3 responsive web applications using front-end framework ReactJS\\nand back-end framework NodeJS .\\n•Helped code and test full-stack Web-based application developed on MERN stack approaches.\\n•Designed and executed security measures such as hashing andencryption .\\nCERTIFICATIONS',\n",
              " '•Helped code and test full-stack Web-based application developed on MERN stack approaches.\\n•Designed and executed security measures such as hashing andencryption .\\nCERTIFICATIONS\\nPostman API Fundamentals Student Expert : API development, testing, and management using the Postman platform.\\nOracle Database Foundation Learner : Fundamentals of database concepts, SQL, database administration and database ar-\\nchitecture.\\nGithub Global Campus Student : Opportunities to learn and collaborate on projects using GitHub, a web-based platform for\\nversion control and collaboration.\\nCoursera Course : Python Programming, Data Visualization, Machine Learning, Deep Learning and Neural Networks.PROJECTS',\n",
              " 'version control and collaboration.\\nCoursera Course : Python Programming, Data Visualization, Machine Learning, Deep Learning and Neural Networks.PROJECTS\\nI-NoteBook |MERN Stack\\n•Utilized iNoteBook as a foundational project to deepen proficiency in key technologies, including ReactJS, NodeJS, Ex-\\npressJS, and MongoDB.\\n•Designed anddeveloped the iNoteBook web application, a robust note-taking platform, using the MERN (MongoDB,\\nExpressJS, ReactJS, NodeJS) stack.\\n•Implemented essential features such as user account creation, authentication, and CRUD (Create, Read, Update, Delete)\\noperations for notes.\\nThe NewsApp |React App',\n",
              " 'ExpressJS, ReactJS, NodeJS) stack.\\n•Implemented essential features such as user account creation, authentication, and CRUD (Create, Read, Update, Delete)\\noperations for notes.\\nThe NewsApp |React App\\n•Created \"The News App\" utilizing ReactJS, demonstrating expertise in creating both Class-Based components and\\nFunction-Based components.\\n•Utilized the News API to fetch and display news articles across diverse categories, including business, entertainment,\\nhealth, sports, general, science, and technology.\\n•Created a multi-page structure for easy navigation between categories and incorporated infinite scroll functionality to\\ndynamically load additional articles as users scroll.',\n",
              " '•Created a multi-page structure for easy navigation between categories and incorporated infinite scroll functionality to\\ndynamically load additional articles as users scroll.\\nLearning Module of Graph Theory |HTML-CSS-JS\\n•Developed a comprehensive learning module centered on graph theory, encompassing diverse graph structures and\\nconcepts.\\n•Implemented an interactive interface enabling users to explore specific graph types, providing detailed definitions and\\nshowcasing essential graph properties through practical examples.\\n•Designed and executed algorithms to facilitate dynamic graph creation, analysis, and automatic computation of key',\n",
              " 'showcasing essential graph properties through practical examples.\\n•Designed and executed algorithms to facilitate dynamic graph creation, analysis, and automatic computation of key\\nattributes, such as edge count, vertex count, and graph degree.\\n•Emphasized the real-world applications of graph theory, illustrating its practical significance across various domains and\\nunderscoring its relevance in contemporary society.']"
            ]
          },
          "metadata": {},
          "execution_count": 8
        }
      ],
      "source": [
        "# Split the long text into small chunks\n",
        "text_splitter = RecursiveCharacterTextSplitter(chunk_size=700,\n",
        "                                               chunk_overlap=200,\n",
        "                                               length_function=len)\n",
        "\n",
        "chunks = text_splitter.split_text(text=text)\n",
        "chunks"
      ]
    },
    {
      "cell_type": "code",
      "execution_count": 9,
      "metadata": {
        "colab": {
          "base_uri": "https://localhost:8080/",
          "height": 125
        },
        "id": "WrLXnr5KpAk0",
        "outputId": "62c81605-9def-4973-ba73-9b507acc3ffb"
      },
      "outputs": [
        {
          "output_type": "execute_result",
          "data": {
            "text/plain": [
              "'Venisha Parmar\\n+91 9375475075 •parmarvenisha725@gmail.com •Linkedin •Github\\nABOUT\\nI am a Pre-Final Y ear B.Tech Student currently pursuing Information and Communication Technology at Marwadi University, Ra-\\njkot, Gujarat, India. My passion for technology drives my aspirations to become a Software Developer. As a quick learner with a\\ngrowth mindset, I am dedicated to seeking opportunities to enhance my skills and expand my knowledge. I am eager to apply\\nmy expertise in a challenging and dynamic work environment, contributing to meaningful projects and continuing my professional\\ngrowth.\\nEDUCATION\\nMarwadi University Rajkot,Gujarat,India September 2021-present'"
            ],
            "application/vnd.google.colaboratory.intrinsic+json": {
              "type": "string"
            }
          },
          "metadata": {},
          "execution_count": 9
        }
      ],
      "source": [
        "chunks[0]"
      ]
    },
    {
      "cell_type": "code",
      "execution_count": 10,
      "metadata": {
        "colab": {
          "base_uri": "https://localhost:8080/",
          "height": 125
        },
        "id": "gXc-ITA3pAk2",
        "outputId": "e4ce9de0-bdb8-484e-f258-37b8715986bf"
      },
      "outputs": [
        {
          "output_type": "execute_result",
          "data": {
            "text/plain": [
              "'growth.\\nEDUCATION\\nMarwadi University Rajkot,Gujarat,India September 2021-present\\nDegree : Bachelor of Technology in Information and Communication Technology\\nGrade : CGPA 7.79 / 10\\nThe School of Science Rajkot,Gujarat,India May 2020 - May 2021\\nHigher Secondary Certificate: 12th - HSC Science A-group, GSEB\\nGrade : 75 Percentage\\nNirmala Convent School Rajkot,Gujarat,India March 2018 - March 2019\\nSecondary School Certificate: 10th - SSC - GSEB\\nGrade : 75 Percentage\\nSKILLS\\nProgramming Languages: Java, JavaScript, Python, C++, C Language\\nBackend Web Technologies: Node JS, Express JS, MVC Architecture\\nFrontend Web Technologies: React JS, HTML, CSS, Bootstrap, AJAX, Tailwind , Material UI'"
            ],
            "application/vnd.google.colaboratory.intrinsic+json": {
              "type": "string"
            }
          },
          "metadata": {},
          "execution_count": 10
        }
      ],
      "source": [
        "chunks[1]"
      ]
    },
    {
      "cell_type": "code",
      "source": [
        "import nltk\n",
        "from nltk.corpus import stopwords\n",
        "from nltk.tokenize import word_tokenize\n",
        "\n",
        "nltk.download('punkt')\n",
        "nltk.download('stopwords')\n",
        "\n",
        "# Function to extract key terms from text\n",
        "def extract_key_terms(text):\n",
        "    stop_words = set(stopwords.words('english'))\n",
        "    word_tokens = word_tokenize(text.lower())\n",
        "    filtered_words = [w for w in word_tokens if not w in stop_words and w.isalpha()]\n",
        "    return set(filtered_words)\n",
        "\n",
        "# Content of chunks[0]\n",
        "resume_chunk = chunks[1]\n",
        "\n",
        "# Extract keywords from the content of chunks[0]\n",
        "keywords = extract_key_terms(resume_chunk)\n",
        "\n",
        "# Print the extracted keywords\n",
        "print(\"Extracted Keywords:\")\n",
        "for keyword in keywords:\n",
        "    print(keyword)\n"
      ],
      "metadata": {
        "colab": {
          "base_uri": "https://localhost:8080/"
        },
        "id": "rrTkrHJwmVRm",
        "outputId": "01d14008-b004-4997-a46d-ff6f2b5a7f16"
      },
      "execution_count": null,
      "outputs": [
        {
          "output_type": "stream",
          "name": "stderr",
          "text": [
            "[nltk_data] Downloading package punkt to /root/nltk_data...\n",
            "[nltk_data]   Unzipping tokenizers/punkt.zip.\n"
          ]
        },
        {
          "output_type": "stream",
          "name": "stdout",
          "text": [
            "Extracted Keywords:\n",
            "ui\n",
            "css\n",
            "ajax\n",
            "grade\n",
            "gujarat\n",
            "java\n",
            "technologies\n",
            "percentage\n",
            "marwadi\n",
            "growth\n",
            "architecture\n",
            "september\n",
            "html\n",
            "technology\n",
            "languages\n",
            "material\n",
            "backend\n",
            "gseb\n",
            "javascript\n",
            "language\n",
            "programming\n",
            "hsc\n",
            "education\n",
            "communication\n",
            "higher\n",
            "python\n",
            "express\n",
            "information\n",
            "nirmala\n",
            "frontend\n",
            "india\n",
            "university\n",
            "web\n",
            "rajkot\n",
            "cgpa\n",
            "bootstrap\n",
            "march\n",
            "c\n",
            "mvc\n",
            "school\n",
            "skills\n",
            "may\n",
            "react\n",
            "secondary\n",
            "bachelor\n",
            "science\n",
            "certificate\n",
            "degree\n",
            "js\n",
            "node\n",
            "ssc\n",
            "convent\n",
            "tailwind\n"
          ]
        },
        {
          "output_type": "stream",
          "name": "stderr",
          "text": [
            "[nltk_data] Downloading package stopwords to /root/nltk_data...\n",
            "[nltk_data]   Unzipping corpora/stopwords.zip.\n"
          ]
        }
      ]
    },
    {
      "cell_type": "code",
      "source": [
        "# text summarizer"
      ],
      "metadata": {
        "id": "wQb6T0vnk1wX"
      },
      "execution_count": 11,
      "outputs": []
    },
    {
      "cell_type": "code",
      "source": [
        "import numpy as np\n",
        "import pandas as pd\n",
        "import matplotlib.pyplot as plt\n",
        "import nltk\n",
        "from nltk.tokenize import sent_tokenize"
      ],
      "metadata": {
        "id": "8GrMVDGSk5P0"
      },
      "execution_count": 12,
      "outputs": []
    },
    {
      "cell_type": "code",
      "source": [
        "nltk.download(\"punkt\")"
      ],
      "metadata": {
        "colab": {
          "base_uri": "https://localhost:8080/"
        },
        "id": "pXNvoJIdk-UK",
        "outputId": "8b243d21-ece5-4864-ed2e-68042843641c"
      },
      "execution_count": 13,
      "outputs": [
        {
          "output_type": "stream",
          "name": "stderr",
          "text": [
            "[nltk_data] Downloading package punkt to /root/nltk_data...\n",
            "[nltk_data]   Unzipping tokenizers/punkt.zip.\n"
          ]
        },
        {
          "output_type": "execute_result",
          "data": {
            "text/plain": [
              "True"
            ]
          },
          "metadata": {},
          "execution_count": 13
        }
      ]
    },
    {
      "cell_type": "code",
      "source": [
        "text=chunks[0]"
      ],
      "metadata": {
        "id": "QB_SZL0Ik-oT"
      },
      "execution_count": 14,
      "outputs": []
    },
    {
      "cell_type": "code",
      "source": [
        "sentences=sent_tokenize(text)"
      ],
      "metadata": {
        "id": "av5p1qAnlCbT"
      },
      "execution_count": 15,
      "outputs": []
    },
    {
      "cell_type": "code",
      "source": [
        "len(sentences)"
      ],
      "metadata": {
        "colab": {
          "base_uri": "https://localhost:8080/"
        },
        "id": "c8wj2b-olKhr",
        "outputId": "ca684ce4-0261-45b3-fba2-e753629fef1a"
      },
      "execution_count": 16,
      "outputs": [
        {
          "output_type": "execute_result",
          "data": {
            "text/plain": [
              "5"
            ]
          },
          "metadata": {},
          "execution_count": 16
        }
      ]
    },
    {
      "cell_type": "code",
      "source": [
        "clean_sentences=pd.Series(sentences).str.replace(\"[^a-zA-Z]\",\" \")\n",
        "clean_sentences=[a.lower() for a in clean_sentences]"
      ],
      "metadata": {
        "id": "qdZEOg5nlMTu"
      },
      "execution_count": 17,
      "outputs": []
    },
    {
      "cell_type": "code",
      "source": [
        "nltk.download(\"stopwords\")"
      ],
      "metadata": {
        "colab": {
          "base_uri": "https://localhost:8080/"
        },
        "id": "u9KGplFvlNzw",
        "outputId": "933a8918-0b60-4366-ff60-cfbfcbe890db"
      },
      "execution_count": 18,
      "outputs": [
        {
          "output_type": "stream",
          "name": "stderr",
          "text": [
            "[nltk_data] Downloading package stopwords to /root/nltk_data...\n",
            "[nltk_data]   Unzipping corpora/stopwords.zip.\n"
          ]
        },
        {
          "output_type": "execute_result",
          "data": {
            "text/plain": [
              "True"
            ]
          },
          "metadata": {},
          "execution_count": 18
        }
      ]
    },
    {
      "cell_type": "code",
      "source": [
        "from nltk.corpus import stopwords\n",
        "stop_words=stopwords.words(\"english\")"
      ],
      "metadata": {
        "id": "y_fYTduolPRo"
      },
      "execution_count": 19,
      "outputs": []
    },
    {
      "cell_type": "code",
      "source": [
        "def remove_stopwords(sent):\n",
        "  return (\" \".join([i for i in sent.split() if i not in stop_words]))"
      ],
      "metadata": {
        "id": "WgaC6LMXlQp6"
      },
      "execution_count": 20,
      "outputs": []
    },
    {
      "cell_type": "code",
      "source": [
        "clean_sentences=[remove_stopwords(r)for r in clean_sentences]"
      ],
      "metadata": {
        "id": "qKaHdxGqlR4S"
      },
      "execution_count": 21,
      "outputs": []
    },
    {
      "cell_type": "code",
      "source": [
        "clean_sentences"
      ],
      "metadata": {
        "colab": {
          "base_uri": "https://localhost:8080/"
        },
        "id": "apFXh3GIlTK8",
        "outputId": "0f755032-1580-4985-f871-cc2848b02030"
      },
      "execution_count": 22,
      "outputs": [
        {
          "output_type": "execute_result",
          "data": {
            "text/plain": [
              "['venisha parmar +91 9375475075 •parmarvenisha725@gmail.com •linkedin •github pre-final ear b.tech student currently pursuing information communication technology marwadi university, ra- jkot, gujarat, india.',\n",
              " 'passion technology drives aspirations become software developer.',\n",
              " 'quick learner growth mindset, dedicated seeking opportunities enhance skills expand knowledge.',\n",
              " 'eager apply expertise challenging dynamic work environment, contributing meaningful projects continuing professional growth.',\n",
              " 'education marwadi university rajkot,gujarat,india september 2021-present']"
            ]
          },
          "metadata": {},
          "execution_count": 22
        }
      ]
    },
    {
      "cell_type": "code",
      "source": [
        "# match with job description"
      ],
      "metadata": {
        "id": "YWW2lJyblUoa"
      },
      "execution_count": 23,
      "outputs": []
    },
    {
      "cell_type": "code",
      "source": [
        "from sklearn.feature_extraction.text import CountVectorizer\n",
        "from sklearn.metrics.pairwise import cosine_similarity\n",
        "import nltk\n",
        "from nltk.corpus import stopwords\n",
        "from nltk.tokenize import word_tokenize\n",
        "\n",
        "nltk.download('punkt')\n",
        "nltk.download('stopwords')\n",
        "\n",
        "# Function to calculate the match percentage between two texts\n",
        "def calculate_match_percentage(text1, text2):\n",
        "    vectorizer = CountVectorizer().fit_transform([text1, text2])\n",
        "    vectors = vectorizer.toarray()\n",
        "    cosine_sim = cosine_similarity(vectors)\n",
        "    match_percentage = cosine_sim[0, 1] * 100  # Convert to percentage\n",
        "    return match_percentage\n",
        "\n",
        "\n",
        "def extract_key_terms(text):\n",
        "    stop_words = set(stopwords.words('english'))\n",
        "    word_tokens = word_tokenize(text.lower())\n",
        "    filtered_words = [w for w in word_tokens if not w in stop_words and w.isalpha()]\n",
        "\n",
        "    return set(filtered_words)\n",
        "\n",
        "# Load the content of chunks[0]\n",
        "resume_chunk = chunks[0]\n",
        "\n",
        "# User input for job description\n",
        "jd_text = input(\"Paste Job Description Here: \")\n",
        "\n",
        "# Calculate the match percentage\n",
        "match_percentage = calculate_match_percentage(resume_chunk, jd_text)\n",
        "print(f\"Match Percentage: {match_percentage:.2f}%\")\n",
        "\n",
        "# Extracting key terms from JD and checking against the resume\n",
        "jd_terms = extract_key_terms(jd_text)\n",
        "resume_terms = extract_key_terms(resume_chunk)\n",
        "missing_terms = jd_terms - resume_terms\n",
        "\n",
        "if match_percentage >= 70:\n",
        "    print(\"Good Chances of getting your Resume Shortlisted.\")\n",
        "elif 40 <= match_percentage < 70:\n",
        "    print(\"Good match but can be improved.\")\n",
        "    if missing_terms:\n",
        "        print(f\"Consider adding these key terms from the job description to your resume:\\n {', '.join(missing_terms)}\")\n",
        "elif match_percentage < 40:\n",
        "    print(\"Poor match.\")\n",
        "    if missing_terms:\n",
        "        print(f\"Your resume is missing these key terms from the job description:\\n {', '.join(missing_terms)}\")\n"
      ],
      "metadata": {
        "id": "y5OsahuLm090",
        "colab": {
          "base_uri": "https://localhost:8080/"
        },
        "outputId": "ee4eebfe-c41c-49f3-b57f-af5cd9a34dcc"
      },
      "execution_count": 24,
      "outputs": [
        {
          "output_type": "stream",
          "name": "stderr",
          "text": [
            "[nltk_data] Downloading package punkt to /root/nltk_data...\n",
            "[nltk_data]   Package punkt is already up-to-date!\n",
            "[nltk_data] Downloading package stopwords to /root/nltk_data...\n",
            "[nltk_data]   Package stopwords is already up-to-date!\n"
          ]
        },
        {
          "output_type": "stream",
          "name": "stdout",
          "text": [
            "Paste Job Description Here: PHP\n",
            "Match Percentage: 0.00%\n",
            "Poor match.\n",
            "Your resume is missing these key terms from the job description:\n",
            " php\n"
          ]
        }
      ]
    },
    {
      "cell_type": "code",
      "source": [],
      "metadata": {
        "id": "K0YLrku90QSk"
      },
      "execution_count": 24,
      "outputs": []
    },
    {
      "cell_type": "code",
      "source": [
        "from PyPDF2 import PdfReader\n",
        "from langchain.text_splitter import RecursiveCharacterTextSplitter\n",
        "import re\n",
        "\n",
        "resume_text = \"\"\n",
        "pdf = \"./Venisha_Resume.pdf\"\n",
        "pdf_reader = PdfReader(pdf)\n",
        "for page in pdf_reader.pages:\n",
        "    resume_text += page.extract_text()\n",
        "\n",
        "lines = resume_text.split(\"\\n\")\n",
        "\n",
        "in_skills_section = False\n",
        "\n",
        "skills_section = []\n",
        "\n",
        "for line in lines:\n",
        "    if line.strip() == \"SKILLS\":\n",
        "        in_skills_section = True\n",
        "    elif in_skills_section:\n",
        "        if line.strip() and not any(title in line for title in [\"EDUCATION\", \"ACHIEVEMENTS\", \"WORK EXPERIENCE\", \"CERTIFICATIONS\", \"PROJECTS\"]):\n",
        "            skills_section.append(line.strip())\n",
        "        else:\n",
        "            break\n",
        "\n",
        "skills_details = \"\\n\".join(skills_section)\n",
        "\n",
        "print(\"Skills Section:\")\n",
        "print(skills_details)"
      ],
      "metadata": {
        "colab": {
          "base_uri": "https://localhost:8080/"
        },
        "id": "r4_uTmnXm7fa",
        "outputId": "cdda735f-1680-4877-ffe9-cd2be3192695"
      },
      "execution_count": 25,
      "outputs": [
        {
          "output_type": "stream",
          "name": "stdout",
          "text": [
            "Skills Section:\n",
            "Programming Languages: Java, JavaScript, Python, C++, C Language\n",
            "Backend Web Technologies: Node JS, Express JS, MVC Architecture\n",
            "Frontend Web Technologies: React JS, HTML, CSS, Bootstrap, AJAX, Tailwind , Material UI\n",
            "Database Technologies: SQL, MySQL, MongoDB\n",
            "CourseWork Subjects: Operating System, Database Management System, Computer Networks\n",
            "Other: Data Structure and Algorithms, GitHub, Postman, Machine Learning\n"
          ]
        }
      ]
    },
    {
      "cell_type": "code",
      "source": [
        "lines = resume_text.split(\"\\n\")\n",
        "\n",
        "# Define skills and their ratings\n",
        "skill_ratings = {\n",
        "    \"Programming Languages\": 5,\n",
        "    \"Java\": 4,\n",
        "    \"JavaScript\": 5,\n",
        "    \"Python\": 5,\n",
        "    \"C++\": 4,\n",
        "    \"C Language\": 3,\n",
        "    \"Backend Web Technologies\": 4,\n",
        "    \"Backend Technologies\": 4,\n",
        "    \"Node JS\": 4,\n",
        "    \"Express JS\": 4,\n",
        "    \"MVC Architecture\": 3,\n",
        "    \"Frontend Web Technologies\": 5,\n",
        "    \"Frontend Technologies\": 5,\n",
        "    \"React JS\": 5,\n",
        "    \"HTML\": 5,\n",
        "    \"CSS\": 5,\n",
        "    \"Bootstrap\": 4,\n",
        "    \"AJAX\": 4,\n",
        "    \"Tailwind\": 3,\n",
        "    \"Material UI\": 4,\n",
        "    \"Database Technologies\": 4,\n",
        "    \"SQL\": 5,\n",
        "    \"MySQL\": 4,\n",
        "    \"MongoDB\": 4,\n",
        "    \"CourseWork Subjects\": 4,\n",
        "    \"Operating System\": 4,\n",
        "    \"Database Management System\": 4,\n",
        "    \"Computer Networks\": 4,\n",
        "    \"Other\": 5,\n",
        "    \"Other skills\": 5,\n",
        "    \"Data Structure and Algorithms\": 5,\n",
        "    \"GitHub\": 4,\n",
        "    \"Postman\": 4,\n",
        "    \"Machine Learning\": 3\n",
        "}\n",
        "\n",
        "# Flag to check if we are in the skills section\n",
        "in_skills_section = False\n",
        "\n",
        "# Iterate over each line in the resume text\n",
        "for line in lines:\n",
        "    if line.strip() == \"SKILLS\":\n",
        "        in_skills_section = True\n",
        "    elif in_skills_section:\n",
        "        if line.strip() and not any(title in line for title in [\"EDUCATION\", \"ACHIEVEMENTS\", \"WORK EXPERIENCE\", \"CERTIFICATIONS\", \"PROJECTS\"]):\n",
        "            skill, *details = line.strip().split(\":\")\n",
        "            rating = skill_ratings.get(skill.strip(), \"N/A\")\n",
        "            print(f\"{skill.strip()} (Rating: {rating}/5)\")\n",
        "        else:\n",
        "            break\n"
      ],
      "metadata": {
        "colab": {
          "base_uri": "https://localhost:8080/"
        },
        "id": "ve72F6SgpSQ5",
        "outputId": "cd4eef36-55f5-412b-e728-0161294522a2"
      },
      "execution_count": 26,
      "outputs": [
        {
          "output_type": "stream",
          "name": "stdout",
          "text": [
            "Programming Languages (Rating: 5/5)\n",
            "Backend Web Technologies (Rating: 4/5)\n",
            "Frontend Web Technologies (Rating: 5/5)\n",
            "Database Technologies (Rating: 4/5)\n",
            "CourseWork Subjects (Rating: 4/5)\n",
            "Other (Rating: 5/5)\n"
          ]
        }
      ]
    },
    {
      "cell_type": "code",
      "source": [
        "# Education"
      ],
      "metadata": {
        "id": "Lz2S1iqpnBvX"
      },
      "execution_count": 27,
      "outputs": []
    },
    {
      "cell_type": "code",
      "source": [
        "lines = resume_text.split(\"\\n\")\n",
        "\n",
        "\n",
        "in_education_section = False\n",
        "\n",
        "\n",
        "education_section = []\n",
        "\n",
        "\n",
        "for line in lines:\n",
        "\n",
        "    if line.strip() == \"EDUCATION\":\n",
        "        in_education_section = True\n",
        "\n",
        "    elif in_education_section:\n",
        "\n",
        "        if line.strip() and not any(title in line for title in [\"PROJECTS\", \"ACHIEVEMENTS\", \"WORK EXPERIENCE\", \"CERTIFICATIONS\", \"SKILLS\"]):\n",
        "            education_section.append(line.strip())\n",
        "\n",
        "        else:\n",
        "            break\n",
        "\n",
        "\n",
        "education_details = \"\\n\".join(education_section)\n",
        "\n",
        "\n",
        "print(\"Education Section:\")\n",
        "print(education_details)"
      ],
      "metadata": {
        "colab": {
          "base_uri": "https://localhost:8080/"
        },
        "id": "8sUf8rIhnGZZ",
        "outputId": "9f675e6b-c5a4-4e26-9b9a-d9ba1d843079"
      },
      "execution_count": 28,
      "outputs": [
        {
          "output_type": "stream",
          "name": "stdout",
          "text": [
            "Education Section:\n",
            "Marwadi University Rajkot,Gujarat,India September 2021-present\n",
            "Degree : Bachelor of Technology in Information and Communication Technology\n",
            "Grade : CGPA 7.79 / 10\n",
            "The School of Science Rajkot,Gujarat,India May 2020 - May 2021\n",
            "Higher Secondary Certificate: 12th - HSC Science A-group, GSEB\n",
            "Grade : 75 Percentage\n",
            "Nirmala Convent School Rajkot,Gujarat,India March 2018 - March 2019\n",
            "Secondary School Certificate: 10th - SSC - GSEB\n",
            "Grade : 75 Percentage\n"
          ]
        }
      ]
    },
    {
      "cell_type": "code",
      "source": [
        "# PROJECTS AND CERTIFICATION"
      ],
      "metadata": {
        "id": "4KyNqfmsnZPN"
      },
      "execution_count": 29,
      "outputs": []
    },
    {
      "cell_type": "code",
      "source": [
        "lines = resume_text.split(\"\\n\")\n",
        "\n",
        "\n",
        "in_project_section = False\n",
        "\n",
        "\n",
        "project_section = []\n",
        "\n",
        "\n",
        "for line in lines:\n",
        "\n",
        "    if line.strip() == \"CERTIFICATIONS\":\n",
        "        in_project_section = True\n",
        "\n",
        "    elif in_project_section:\n",
        "\n",
        "        if line.strip() and not any(title in line for title in [\"EDUCATION\", \"ACHIEVEMENTS\", \"WORK EXPERIENCE\", \"SKILLS\"]):\n",
        "            project_section.append(line.strip())\n",
        "\n",
        "        else:\n",
        "            break\n",
        "\n",
        "\n",
        "project_details = \"\\n\".join(project_section)\n",
        "\n",
        "\n",
        "print(\"Project and Certification Section:\")\n",
        "print(project_details)"
      ],
      "metadata": {
        "colab": {
          "base_uri": "https://localhost:8080/"
        },
        "id": "6z9gM06k0gek",
        "outputId": "cbff7ea2-57f8-4b51-b7bc-338583b0c536"
      },
      "execution_count": 30,
      "outputs": [
        {
          "output_type": "stream",
          "name": "stdout",
          "text": [
            "Project and Certification Section:\n",
            "Postman API Fundamentals Student Expert : API development, testing, and management using the Postman platform.\n",
            "Oracle Database Foundation Learner : Fundamentals of database concepts, SQL, database administration and database ar-\n",
            "chitecture.\n",
            "Github Global Campus Student : Opportunities to learn and collaborate on projects using GitHub, a web-based platform for\n",
            "version control and collaboration.\n",
            "Coursera Course : Python Programming, Data Visualization, Machine Learning, Deep Learning and Neural Networks.PROJECTS\n",
            "I-NoteBook |MERN Stack\n",
            "•Utilized iNoteBook as a foundational project to deepen proficiency in key technologies, including ReactJS, NodeJS, Ex-\n",
            "pressJS, and MongoDB.\n",
            "•Designed anddeveloped the iNoteBook web application, a robust note-taking platform, using the MERN (MongoDB,\n",
            "ExpressJS, ReactJS, NodeJS) stack.\n",
            "•Implemented essential features such as user account creation, authentication, and CRUD (Create, Read, Update, Delete)\n",
            "operations for notes.\n",
            "The NewsApp |React App\n",
            "•Created \"The News App\" utilizing ReactJS, demonstrating expertise in creating both Class-Based components and\n",
            "Function-Based components.\n",
            "•Utilized the News API to fetch and display news articles across diverse categories, including business, entertainment,\n",
            "health, sports, general, science, and technology.\n",
            "•Created a multi-page structure for easy navigation between categories and incorporated infinite scroll functionality to\n",
            "dynamically load additional articles as users scroll.\n",
            "Learning Module of Graph Theory |HTML-CSS-JS\n",
            "•Developed a comprehensive learning module centered on graph theory, encompassing diverse graph structures and\n",
            "concepts.\n",
            "•Implemented an interactive interface enabling users to explore specific graph types, providing detailed definitions and\n",
            "showcasing essential graph properties through practical examples.\n",
            "•Designed and executed algorithms to facilitate dynamic graph creation, analysis, and automatic computation of key\n",
            "attributes, such as edge count, vertex count, and graph degree.\n",
            "•Emphasized the real-world applications of graph theory, illustrating its practical significance across various domains and\n",
            "underscoring its relevance in contemporary society.\n"
          ]
        }
      ]
    },
    {
      "cell_type": "code",
      "source": [],
      "metadata": {
        "id": "Do_B-hCvDFM4"
      },
      "execution_count": null,
      "outputs": []
    }
  ],
  "metadata": {
    "kernelspec": {
      "display_name": "Python 3",
      "language": "python",
      "name": "python3"
    },
    "language_info": {
      "codemirror_mode": {
        "name": "ipython",
        "version": 3
      },
      "file_extension": ".py",
      "mimetype": "text/x-python",
      "name": "python",
      "nbconvert_exporter": "python",
      "pygments_lexer": "ipython3",
      "version": "3.11.6"
    },
    "orig_nbformat": 4,
    "colab": {
      "provenance": []
    }
  },
  "nbformat": 4,
  "nbformat_minor": 0
}